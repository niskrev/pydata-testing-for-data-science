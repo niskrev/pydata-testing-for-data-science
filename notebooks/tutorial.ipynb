{
 "cells": [
  {
   "cell_type": "code",
   "execution_count": 4,
   "metadata": {},
   "outputs": [],
   "source": [
    "import pandas as pd\n",
    "pd.set_option('display.max_columns', 100)"
   ]
  },
  {
   "cell_type": "code",
   "execution_count": 5,
   "metadata": {},
   "outputs": [
    {
     "name": "stderr",
     "output_type": "stream",
     "text": [
      "/anaconda3/envs/testing/lib/python3.7/site-packages/IPython/core/interactiveshell.py:3058: DtypeWarning: Columns (21,22,23,24) have mixed types. Specify dtype option on import or set low_memory=False.\n",
      "  interactivity=interactivity, compiler=compiler, result=result)\n"
     ]
    }
   ],
   "source": [
    "PATH = \"../data/train.zip\"\n",
    "df = pd.read_csv(PATH)"
   ]
  },
  {
   "cell_type": "code",
   "execution_count": 6,
   "metadata": {
    "scrolled": true
   },
   "outputs": [
    {
     "data": {
      "text/html": [
       "<div>\n",
       "<style scoped>\n",
       "    .dataframe tbody tr th:only-of-type {\n",
       "        vertical-align: middle;\n",
       "    }\n",
       "\n",
       "    .dataframe tbody tr th {\n",
       "        vertical-align: top;\n",
       "    }\n",
       "\n",
       "    .dataframe thead th {\n",
       "        text-align: right;\n",
       "    }\n",
       "</style>\n",
       "<table border=\"1\" class=\"dataframe\">\n",
       "  <thead>\n",
       "    <tr style=\"text-align: right;\">\n",
       "      <th></th>\n",
       "      <th>id</th>\n",
       "      <th>photo</th>\n",
       "      <th>name</th>\n",
       "      <th>blurb</th>\n",
       "      <th>goal</th>\n",
       "      <th>slug</th>\n",
       "      <th>disable_communication</th>\n",
       "      <th>country</th>\n",
       "      <th>currency</th>\n",
       "      <th>currency_symbol</th>\n",
       "      <th>currency_trailing_code</th>\n",
       "      <th>deadline</th>\n",
       "      <th>created_at</th>\n",
       "      <th>launched_at</th>\n",
       "      <th>static_usd_rate</th>\n",
       "      <th>creator</th>\n",
       "      <th>location</th>\n",
       "      <th>category</th>\n",
       "      <th>profile</th>\n",
       "      <th>urls</th>\n",
       "      <th>source_url</th>\n",
       "      <th>friends</th>\n",
       "      <th>is_starred</th>\n",
       "      <th>is_backing</th>\n",
       "      <th>permissions</th>\n",
       "      <th>state</th>\n",
       "    </tr>\n",
       "  </thead>\n",
       "  <tbody>\n",
       "    <tr>\n",
       "      <th>0</th>\n",
       "      <td>663816109</td>\n",
       "      <td>{\"small\":\"https://ksr-ugc.imgix.net/assets/012...</td>\n",
       "      <td>Angular - Where Modern Art meets Cards</td>\n",
       "      <td>Angular is a minimalist card design for simpli...</td>\n",
       "      <td>17380.0</td>\n",
       "      <td>angular-where-modern-art-meets-cards</td>\n",
       "      <td>False</td>\n",
       "      <td>US</td>\n",
       "      <td>USD</td>\n",
       "      <td>$</td>\n",
       "      <td>True</td>\n",
       "      <td>1459283229</td>\n",
       "      <td>1455845363</td>\n",
       "      <td>1456694829</td>\n",
       "      <td>1.000000</td>\n",
       "      <td>{\"urls\":{\"web\":{\"user\":\"https://www.kickstarte...</td>\n",
       "      <td>{\"country\":\"US\",\"urls\":{\"web\":{\"discover\":\"htt...</td>\n",
       "      <td>{\"urls\":{\"web\":{\"discover\":\"http://www.kicksta...</td>\n",
       "      <td>{\"background_image_opacity\":0.8,\"should_show_f...</td>\n",
       "      <td>{\"web\":{\"project\":\"https://www.kickstarter.com...</td>\n",
       "      <td>https://www.kickstarter.com/discover/categorie...</td>\n",
       "      <td>NaN</td>\n",
       "      <td>NaN</td>\n",
       "      <td>NaN</td>\n",
       "      <td>NaN</td>\n",
       "      <td>failed</td>\n",
       "    </tr>\n",
       "    <tr>\n",
       "      <th>1</th>\n",
       "      <td>1462931821</td>\n",
       "      <td>{\"small\":\"https://ksr-ugc.imgix.net/assets/014...</td>\n",
       "      <td>Ladybeard is KAWAII-CORE</td>\n",
       "      <td>Original songs and music videos to jump start ...</td>\n",
       "      <td>24000.0</td>\n",
       "      <td>ladybeard-is-kawaii-core</td>\n",
       "      <td>False</td>\n",
       "      <td>US</td>\n",
       "      <td>USD</td>\n",
       "      <td>$</td>\n",
       "      <td>True</td>\n",
       "      <td>1484110800</td>\n",
       "      <td>1475568868</td>\n",
       "      <td>1480946454</td>\n",
       "      <td>1.000000</td>\n",
       "      <td>{\"urls\":{\"web\":{\"user\":\"https://www.kickstarte...</td>\n",
       "      <td>{\"country\":\"JP\",\"urls\":{\"web\":{\"discover\":\"htt...</td>\n",
       "      <td>{\"urls\":{\"web\":{\"discover\":\"http://www.kicksta...</td>\n",
       "      <td>{\"background_image_opacity\":0.8,\"should_show_f...</td>\n",
       "      <td>{\"web\":{\"project\":\"https://www.kickstarter.com...</td>\n",
       "      <td>https://www.kickstarter.com/discover/categorie...</td>\n",
       "      <td>NaN</td>\n",
       "      <td>NaN</td>\n",
       "      <td>NaN</td>\n",
       "      <td>NaN</td>\n",
       "      <td>failed</td>\n",
       "    </tr>\n",
       "    <tr>\n",
       "      <th>2</th>\n",
       "      <td>1724358498</td>\n",
       "      <td>{\"small\":\"https://ksr-ugc.imgix.net/assets/011...</td>\n",
       "      <td>Vegan Cafe Delivery Service in Vancouver BC</td>\n",
       "      <td>Our project is to launch a vegan lunch deliver...</td>\n",
       "      <td>40000.0</td>\n",
       "      <td>vegancafeca</td>\n",
       "      <td>False</td>\n",
       "      <td>CA</td>\n",
       "      <td>CAD</td>\n",
       "      <td>$</td>\n",
       "      <td>True</td>\n",
       "      <td>1408549628</td>\n",
       "      <td>1405218883</td>\n",
       "      <td>1405957628</td>\n",
       "      <td>0.926746</td>\n",
       "      <td>{\"urls\":{\"web\":{\"user\":\"https://www.kickstarte...</td>\n",
       "      <td>{\"country\":\"CA\",\"urls\":{\"web\":{\"discover\":\"htt...</td>\n",
       "      <td>{\"urls\":{\"web\":{\"discover\":\"http://www.kicksta...</td>\n",
       "      <td>{\"background_image_opacity\":0.8,\"should_show_f...</td>\n",
       "      <td>{\"web\":{\"project\":\"https://www.kickstarter.com...</td>\n",
       "      <td>https://www.kickstarter.com/discover/categorie...</td>\n",
       "      <td>NaN</td>\n",
       "      <td>NaN</td>\n",
       "      <td>NaN</td>\n",
       "      <td>NaN</td>\n",
       "      <td>failed</td>\n",
       "    </tr>\n",
       "    <tr>\n",
       "      <th>3</th>\n",
       "      <td>314918941</td>\n",
       "      <td>{\"small\":\"https://ksr-ugc.imgix.net/assets/011...</td>\n",
       "      <td>Photoetched Rail Yard Exposition</td>\n",
       "      <td>I have developed a process of my own which tra...</td>\n",
       "      <td>1000.0</td>\n",
       "      <td>photoetched-rail-yard-exposition</td>\n",
       "      <td>False</td>\n",
       "      <td>US</td>\n",
       "      <td>USD</td>\n",
       "      <td>$</td>\n",
       "      <td>True</td>\n",
       "      <td>1364084914</td>\n",
       "      <td>1360627778</td>\n",
       "      <td>1361496514</td>\n",
       "      <td>1.000000</td>\n",
       "      <td>{\"urls\":{\"web\":{\"user\":\"https://www.kickstarte...</td>\n",
       "      <td>{\"country\":\"US\",\"urls\":{\"web\":{\"discover\":\"htt...</td>\n",
       "      <td>{\"urls\":{\"web\":{\"discover\":\"http://www.kicksta...</td>\n",
       "      <td>{\"background_image_opacity\":0.8,\"should_show_f...</td>\n",
       "      <td>{\"web\":{\"project\":\"https://www.kickstarter.com...</td>\n",
       "      <td>https://www.kickstarter.com/discover/categorie...</td>\n",
       "      <td>NaN</td>\n",
       "      <td>NaN</td>\n",
       "      <td>NaN</td>\n",
       "      <td>NaN</td>\n",
       "      <td>successful</td>\n",
       "    </tr>\n",
       "    <tr>\n",
       "      <th>4</th>\n",
       "      <td>1766165140</td>\n",
       "      <td>{\"small\":\"https://ksr-ugc.imgix.net/assets/011...</td>\n",
       "      <td>Cinnamon Fletcher needs to be brought to life!</td>\n",
       "      <td>Need to pay an illustrator to bring my childre...</td>\n",
       "      <td>700.0</td>\n",
       "      <td>cinnamon-fletcher-needs-to-be-brought-to-life</td>\n",
       "      <td>False</td>\n",
       "      <td>GB</td>\n",
       "      <td>GBP</td>\n",
       "      <td>Â£</td>\n",
       "      <td>False</td>\n",
       "      <td>1382600001</td>\n",
       "      <td>1379704502</td>\n",
       "      <td>1380008001</td>\n",
       "      <td>1.602384</td>\n",
       "      <td>{\"urls\":{\"web\":{\"user\":\"https://www.kickstarte...</td>\n",
       "      <td>{\"country\":\"GB\",\"urls\":{\"web\":{\"discover\":\"htt...</td>\n",
       "      <td>{\"urls\":{\"web\":{\"discover\":\"http://www.kicksta...</td>\n",
       "      <td>{\"background_image_opacity\":0.8,\"should_show_f...</td>\n",
       "      <td>{\"web\":{\"project\":\"https://www.kickstarter.com...</td>\n",
       "      <td>https://www.kickstarter.com/discover/categorie...</td>\n",
       "      <td>NaN</td>\n",
       "      <td>NaN</td>\n",
       "      <td>NaN</td>\n",
       "      <td>NaN</td>\n",
       "      <td>failed</td>\n",
       "    </tr>\n",
       "  </tbody>\n",
       "</table>\n",
       "</div>"
      ],
      "text/plain": [
       "           id                                              photo  \\\n",
       "0   663816109  {\"small\":\"https://ksr-ugc.imgix.net/assets/012...   \n",
       "1  1462931821  {\"small\":\"https://ksr-ugc.imgix.net/assets/014...   \n",
       "2  1724358498  {\"small\":\"https://ksr-ugc.imgix.net/assets/011...   \n",
       "3   314918941  {\"small\":\"https://ksr-ugc.imgix.net/assets/011...   \n",
       "4  1766165140  {\"small\":\"https://ksr-ugc.imgix.net/assets/011...   \n",
       "\n",
       "                                             name  \\\n",
       "0          Angular - Where Modern Art meets Cards   \n",
       "1                        Ladybeard is KAWAII-CORE   \n",
       "2     Vegan Cafe Delivery Service in Vancouver BC   \n",
       "3                Photoetched Rail Yard Exposition   \n",
       "4  Cinnamon Fletcher needs to be brought to life!   \n",
       "\n",
       "                                               blurb     goal  \\\n",
       "0  Angular is a minimalist card design for simpli...  17380.0   \n",
       "1  Original songs and music videos to jump start ...  24000.0   \n",
       "2  Our project is to launch a vegan lunch deliver...  40000.0   \n",
       "3  I have developed a process of my own which tra...   1000.0   \n",
       "4  Need to pay an illustrator to bring my childre...    700.0   \n",
       "\n",
       "                                            slug  disable_communication  \\\n",
       "0           angular-where-modern-art-meets-cards                  False   \n",
       "1                       ladybeard-is-kawaii-core                  False   \n",
       "2                                    vegancafeca                  False   \n",
       "3               photoetched-rail-yard-exposition                  False   \n",
       "4  cinnamon-fletcher-needs-to-be-brought-to-life                  False   \n",
       "\n",
       "  country currency currency_symbol  currency_trailing_code    deadline  \\\n",
       "0      US      USD               $                    True  1459283229   \n",
       "1      US      USD               $                    True  1484110800   \n",
       "2      CA      CAD               $                    True  1408549628   \n",
       "3      US      USD               $                    True  1364084914   \n",
       "4      GB      GBP              Â£                   False  1382600001   \n",
       "\n",
       "   created_at  launched_at  static_usd_rate  \\\n",
       "0  1455845363   1456694829         1.000000   \n",
       "1  1475568868   1480946454         1.000000   \n",
       "2  1405218883   1405957628         0.926746   \n",
       "3  1360627778   1361496514         1.000000   \n",
       "4  1379704502   1380008001         1.602384   \n",
       "\n",
       "                                             creator  \\\n",
       "0  {\"urls\":{\"web\":{\"user\":\"https://www.kickstarte...   \n",
       "1  {\"urls\":{\"web\":{\"user\":\"https://www.kickstarte...   \n",
       "2  {\"urls\":{\"web\":{\"user\":\"https://www.kickstarte...   \n",
       "3  {\"urls\":{\"web\":{\"user\":\"https://www.kickstarte...   \n",
       "4  {\"urls\":{\"web\":{\"user\":\"https://www.kickstarte...   \n",
       "\n",
       "                                            location  \\\n",
       "0  {\"country\":\"US\",\"urls\":{\"web\":{\"discover\":\"htt...   \n",
       "1  {\"country\":\"JP\",\"urls\":{\"web\":{\"discover\":\"htt...   \n",
       "2  {\"country\":\"CA\",\"urls\":{\"web\":{\"discover\":\"htt...   \n",
       "3  {\"country\":\"US\",\"urls\":{\"web\":{\"discover\":\"htt...   \n",
       "4  {\"country\":\"GB\",\"urls\":{\"web\":{\"discover\":\"htt...   \n",
       "\n",
       "                                            category  \\\n",
       "0  {\"urls\":{\"web\":{\"discover\":\"http://www.kicksta...   \n",
       "1  {\"urls\":{\"web\":{\"discover\":\"http://www.kicksta...   \n",
       "2  {\"urls\":{\"web\":{\"discover\":\"http://www.kicksta...   \n",
       "3  {\"urls\":{\"web\":{\"discover\":\"http://www.kicksta...   \n",
       "4  {\"urls\":{\"web\":{\"discover\":\"http://www.kicksta...   \n",
       "\n",
       "                                             profile  \\\n",
       "0  {\"background_image_opacity\":0.8,\"should_show_f...   \n",
       "1  {\"background_image_opacity\":0.8,\"should_show_f...   \n",
       "2  {\"background_image_opacity\":0.8,\"should_show_f...   \n",
       "3  {\"background_image_opacity\":0.8,\"should_show_f...   \n",
       "4  {\"background_image_opacity\":0.8,\"should_show_f...   \n",
       "\n",
       "                                                urls  \\\n",
       "0  {\"web\":{\"project\":\"https://www.kickstarter.com...   \n",
       "1  {\"web\":{\"project\":\"https://www.kickstarter.com...   \n",
       "2  {\"web\":{\"project\":\"https://www.kickstarter.com...   \n",
       "3  {\"web\":{\"project\":\"https://www.kickstarter.com...   \n",
       "4  {\"web\":{\"project\":\"https://www.kickstarter.com...   \n",
       "\n",
       "                                          source_url friends is_starred  \\\n",
       "0  https://www.kickstarter.com/discover/categorie...     NaN        NaN   \n",
       "1  https://www.kickstarter.com/discover/categorie...     NaN        NaN   \n",
       "2  https://www.kickstarter.com/discover/categorie...     NaN        NaN   \n",
       "3  https://www.kickstarter.com/discover/categorie...     NaN        NaN   \n",
       "4  https://www.kickstarter.com/discover/categorie...     NaN        NaN   \n",
       "\n",
       "  is_backing permissions       state  \n",
       "0        NaN         NaN      failed  \n",
       "1        NaN         NaN      failed  \n",
       "2        NaN         NaN      failed  \n",
       "3        NaN         NaN  successful  \n",
       "4        NaN         NaN      failed  "
      ]
     },
     "execution_count": 6,
     "metadata": {},
     "output_type": "execute_result"
    }
   ],
   "source": [
    "df.head()"
   ]
  },
  {
   "cell_type": "markdown",
   "metadata": {},
   "source": [
    "# Pytruth: friendlier assertions"
   ]
  },
  {
   "cell_type": "code",
   "execution_count": 7,
   "metadata": {},
   "outputs": [],
   "source": [
    "from truth.truth import AssertThat"
   ]
  },
  {
   "cell_type": "code",
   "execution_count": 8,
   "metadata": {},
   "outputs": [],
   "source": [
    "data = df.iloc[1]"
   ]
  },
  {
   "cell_type": "code",
   "execution_count": 9,
   "metadata": {},
   "outputs": [
    {
     "data": {
      "text/plain": [
       "'{\"urls\":{\"web\":{\"discover\":\"http://www.kickstarter.com/discover/categories/music/pop\"}},\"color\":10878931,\"parent_id\":14,\"name\":\"Pop\",\"id\":42,\"position\":14,\"slug\":\"music/pop\"}'"
      ]
     },
     "execution_count": 9,
     "metadata": {},
     "output_type": "execute_result"
    }
   ],
   "source": [
    "data['category']"
   ]
  },
  {
   "cell_type": "code",
   "execution_count": 15,
   "metadata": {},
   "outputs": [],
   "source": [
    "AssertThat(data[\"deadline\"]).IsNonZero()"
   ]
  },
  {
   "cell_type": "code",
   "execution_count": 21,
   "metadata": {
    "scrolled": true
   },
   "outputs": [],
   "source": [
    "AssertThat(data[\"blurb\"]).Contains(\"songs\")"
   ]
  },
  {
   "cell_type": "code",
   "execution_count": 23,
   "metadata": {},
   "outputs": [],
   "source": [
    "AssertThat(data[\"blurb\"]).Contains(\"KAWAI\")"
   ]
  },
  {
   "cell_type": "code",
   "execution_count": null,
   "metadata": {},
   "outputs": [],
   "source": []
  },
  {
   "cell_type": "markdown",
   "metadata": {},
   "source": [
    "# Hypothesis"
   ]
  },
  {
   "cell_type": "code",
   "execution_count": 24,
   "metadata": {},
   "outputs": [],
   "source": [
    "from hypothesis.strategies import text, lists"
   ]
  },
  {
   "cell_type": "code",
   "execution_count": 37,
   "metadata": {},
   "outputs": [
    {
     "data": {
      "text/plain": [
       "['𣨠\\U00011147\\U000c5d48 \\x11\\x12\\n\\U000cc1d1\\U00031e9d',\n",
       " '',\n",
       " '\\U0008223d\\U0007dec9$\\x05',\n",
       " '\\U000f6eee\\x12\\U00109faa.',\n",
       " '']"
      ]
     },
     "execution_count": 37,
     "metadata": {},
     "output_type": "execute_result"
    }
   ],
   "source": [
    "lists(text()).example()"
   ]
  },
  {
   "cell_type": "code",
   "execution_count": 38,
   "metadata": {},
   "outputs": [
    {
     "name": "stdout",
     "output_type": "stream",
     "text": [
      "0 []\n",
      "1 ['\\x18\\x1f,\\U000bd709\\U000c2077 \\U000eab30\\U000119cc\\U000b8f01\\x0e\\x19\\x03\\U0006eef8\\U000f1a6b𣀪', '!\\x15\\U00049b1a,\\U000cc00b\\U00019e0f!\\r\\x0f\\x10\\U0004e121\\U000ec6cc\\x1c\\U000d9dec\\x11\\n\\x03,\\U000754b6\\U000e7080\\x16\\x18\\x16\\U0008fb39', '\\r\"0\\U0007defa\\n\\x07\\U000afc5a\\U00103dd7\\x02']\n",
      "2 ['', '\\x0c\\U00068145-\\x11\\U000b783e\\x0e(\\x1e\\U000ba357', '+\\U0007b6bd\\x07', '\\U000779b0\\n皭\\x04)(\\x14\\x0f', '\\U00057d0c', '', '\\U000cadcb\\U00087553\\n.\\U000c8d78\\U000af79e!\\U000d92ad\\x05\\U000cdff7\\U00053224\\x1d\\x11', '\\U0009eca9\\x0e\\U00047e27', '\\x15\\U00107266\\U000d5541', '\\x04\\x0e\\x19\\U000c71d2\\r\\U000c00a4\\U000bc7fd\\x04\\x0e\\U0003b58b\\x01', '䍏\\U0010a8e8\\x14', '⎻\\U0003fcd2\\U000982ff\\U000ed7d4\\U000892880\\U0008ac5e\\x01\\U000699df', '\\U00011ccc', '', '\\U000e346a\\x1c\\x11\\U0003d12f\\U000a5290\\x07䉷!\\U000e33a2\\x16&\\U00071052$', '\\x0e𖢦\\U00105bb3\",\\U000b321c\\U000d8e67.\\x08\\x02\\x17\\U000fed7c\\U0006dcfe\\U0007a775', '\\U000e3a8f', '\\U0004f05e\\U00095b39\\U000bbe52\\x03\\U0004373c\\x05\\x1a\\U00047249']\n",
      "3 []\n",
      "4 []\n",
      "5 [\"'\\U0002ee76)\\U00108f01\\U0003532e\\x02\\U000f6eda\"]\n",
      "6 ['\\x14\\x10\\U000adda2']\n",
      "7 []\n",
      "8 ['𢊶\\x17\\x1b\\U0004774c', '\\x0b\\x18', '\\x1d0\\U000be303\\U0005b701,\\U0006abeb\\U00104362\\x01', '\\U000abfb8\\U0004f00b.\\x0e\\U0006c5ce-\\U000351bf$\\x19\\'\\x17\\U000eebbd\"\\x0f\\U000b47d8\\x08\\x16\\U00104502\\x04', '\\x10', '', '\\x02\\x0b', '\\U00098cc3\\U000fd8d1', '\\U000f4345\\U000fa997\\x15\\x02\\t\\U00101372\\U0007e7fb\\U000f12f3\\x04,\\x0b']\n",
      "9 []\n"
     ]
    }
   ],
   "source": [
    "for i in range(0, 10):\n",
    "    print(i, lists(text()).example())"
   ]
  },
  {
   "cell_type": "code",
   "execution_count": 39,
   "metadata": {},
   "outputs": [],
   "source": [
    "from hypothesis.extra.pandas import column, data_frames"
   ]
  },
  {
   "cell_type": "code",
   "execution_count": 59,
   "metadata": {},
   "outputs": [
    {
     "data": {
      "text/html": [
       "<div>\n",
       "<style scoped>\n",
       "    .dataframe tbody tr th:only-of-type {\n",
       "        vertical-align: middle;\n",
       "    }\n",
       "\n",
       "    .dataframe tbody tr th {\n",
       "        vertical-align: top;\n",
       "    }\n",
       "\n",
       "    .dataframe thead th {\n",
       "        text-align: right;\n",
       "    }\n",
       "</style>\n",
       "<table border=\"1\" class=\"dataframe\">\n",
       "  <thead>\n",
       "    <tr style=\"text-align: right;\">\n",
       "      <th></th>\n",
       "      <th>a</th>\n",
       "    </tr>\n",
       "  </thead>\n",
       "  <tbody>\n",
       "    <tr>\n",
       "      <th>0</th>\n",
       "      <td>2459514564532345282</td>\n",
       "    </tr>\n",
       "    <tr>\n",
       "      <th>1</th>\n",
       "      <td>2459514564532345282</td>\n",
       "    </tr>\n",
       "    <tr>\n",
       "      <th>2</th>\n",
       "      <td>2459514564532345282</td>\n",
       "    </tr>\n",
       "    <tr>\n",
       "      <th>3</th>\n",
       "      <td>2459514564532345282</td>\n",
       "    </tr>\n",
       "    <tr>\n",
       "      <th>4</th>\n",
       "      <td>2459514564532345282</td>\n",
       "    </tr>\n",
       "    <tr>\n",
       "      <th>5</th>\n",
       "      <td>2459514564532345282</td>\n",
       "    </tr>\n",
       "    <tr>\n",
       "      <th>6</th>\n",
       "      <td>2459514564532345282</td>\n",
       "    </tr>\n",
       "  </tbody>\n",
       "</table>\n",
       "</div>"
      ],
      "text/plain": [
       "                     a\n",
       "0  2459514564532345282\n",
       "1  2459514564532345282\n",
       "2  2459514564532345282\n",
       "3  2459514564532345282\n",
       "4  2459514564532345282\n",
       "5  2459514564532345282\n",
       "6  2459514564532345282"
      ]
     },
     "execution_count": 59,
     "metadata": {},
     "output_type": "execute_result"
    }
   ],
   "source": [
    "data_frames([column('a', dtype=int,)]).example()"
   ]
  },
  {
   "cell_type": "code",
   "execution_count": 64,
   "metadata": {},
   "outputs": [
    {
     "data": {
      "text/html": [
       "<div>\n",
       "<style scoped>\n",
       "    .dataframe tbody tr th:only-of-type {\n",
       "        vertical-align: middle;\n",
       "    }\n",
       "\n",
       "    .dataframe tbody tr th {\n",
       "        vertical-align: top;\n",
       "    }\n",
       "\n",
       "    .dataframe thead th {\n",
       "        text-align: right;\n",
       "    }\n",
       "</style>\n",
       "<table border=\"1\" class=\"dataframe\">\n",
       "  <thead>\n",
       "    <tr style=\"text-align: right;\">\n",
       "      <th></th>\n",
       "      <th>goal</th>\n",
       "      <th>static_usd_rate</th>\n",
       "    </tr>\n",
       "  </thead>\n",
       "  <tbody>\n",
       "    <tr>\n",
       "      <th>0</th>\n",
       "      <td>1.252112e+51</td>\n",
       "      <td>inf</td>\n",
       "    </tr>\n",
       "  </tbody>\n",
       "</table>\n",
       "</div>"
      ],
      "text/plain": [
       "           goal  static_usd_rate\n",
       "0  1.252112e+51              inf"
      ]
     },
     "execution_count": 64,
     "metadata": {},
     "output_type": "execute_result"
    }
   ],
   "source": [
    "data_frames([column('goal', dtype=float), column('static_usd_rate', dtype=float)]).example()"
   ]
  },
  {
   "cell_type": "code",
   "execution_count": 65,
   "metadata": {},
   "outputs": [],
   "source": [
    "from hypothesis.strategies import fixed_dictionaries, text"
   ]
  },
  {
   "cell_type": "code",
   "execution_count": 69,
   "metadata": {},
   "outputs": [
    {
     "name": "stdout",
     "output_type": "stream",
     "text": [
      "{'slug': '/\\U001093a4'}\n",
      "{'slug': ''}\n",
      "{'slug': '+\\x12\\x1b\"'}\n",
      "{'slug': '\\U000a38c2\\x04\\U000a9d41'}\n",
      "{'slug': '𝣷\\U00048e99\\U000d5a91/\\x15\\t!!'}\n",
      "{'slug': ''}\n",
      "{'slug': ''}\n",
      "{'slug': '\\U000b93f3'}\n",
      "{'slug': '\\x06\\U000b7827\\U000d2eee\\x11.괣\\x10!\\x00&'}\n",
      "{'slug': ''}\n"
     ]
    }
   ],
   "source": [
    "for i in range(0, 10): print(fixed_dictionaries({'slug':text()}).example())"
   ]
  },
  {
   "cell_type": "code",
   "execution_count": 70,
   "metadata": {},
   "outputs": [],
   "source": [
    "from hypothesis.strategies import fixed_dictionaries, from_regex"
   ]
  },
  {
   "cell_type": "code",
   "execution_count": 76,
   "metadata": {},
   "outputs": [
    {
     "data": {
      "text/plain": [
       "'cbc'"
      ]
     },
     "execution_count": 76,
     "metadata": {},
     "output_type": "execute_result"
    }
   ],
   "source": [
    "from_regex(\"^[abc]{3}$\").example()"
   ]
  },
  {
   "cell_type": "code",
   "execution_count": 80,
   "metadata": {},
   "outputs": [
    {
     "data": {
      "text/plain": [
       "'{\"data\": \"acc\\\\n\"}'"
      ]
     },
     "execution_count": 80,
     "metadata": {},
     "output_type": "execute_result"
    }
   ],
   "source": [
    "import json\n",
    "from hypothesis.strategies import fixed_dictionaries, from_regex\n",
    "fixed_dictionaries({'data': from_regex(\"^[abc]{3}$\")}).map(json.dumps).example()"
   ]
  },
  {
   "cell_type": "code",
   "execution_count": 84,
   "metadata": {},
   "outputs": [
    {
     "data": {
      "text/plain": [
       "'{\"data\": \"bac\\\\n\"}'"
      ]
     },
     "execution_count": 84,
     "metadata": {},
     "output_type": "execute_result"
    }
   ],
   "source": [
    "json.dumps(fixed_dictionaries({'data': from_regex(\"^[abc]{3}$\")}).example())"
   ]
  },
  {
   "cell_type": "code",
   "execution_count": 103,
   "metadata": {},
   "outputs": [
    {
     "name": "stdout",
     "output_type": "stream",
     "text": [
      "3\n",
      "3\n",
      "4\n",
      "3\n",
      "3\n",
      "3\n"
     ]
    }
   ],
   "source": [
    "for _ in range(100):\n",
    "    json_string = fixed_dictionaries({'slug': from_regex(\"/\")}).map(json.dumps).example()\n",
    "    categories = json.loads(json_string).get(\"slug\", \"/\").split(\"/\")\n",
    "    if len(categories) != 2:\n",
    "        print(len(categories))"
   ]
  },
  {
   "cell_type": "code",
   "execution_count": null,
   "metadata": {},
   "outputs": [],
   "source": []
  }
 ],
 "metadata": {
  "kernelspec": {
   "display_name": "Python 3",
   "language": "python",
   "name": "python3"
  },
  "language_info": {
   "codemirror_mode": {
    "name": "ipython",
    "version": 3
   },
   "file_extension": ".py",
   "mimetype": "text/x-python",
   "name": "python",
   "nbconvert_exporter": "python",
   "pygments_lexer": "ipython3",
   "version": "3.7.3"
  }
 },
 "nbformat": 4,
 "nbformat_minor": 4
}
